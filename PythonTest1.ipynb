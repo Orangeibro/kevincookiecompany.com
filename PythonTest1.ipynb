{
  "nbformat": 4,
  "nbformat_minor": 0,
  "metadata": {
    "colab": {
      "provenance": [],
      "authorship_tag": "ABX9TyNP4+uNClC5zxD5QXXUBJoE",
      "include_colab_link": true
    },
    "kernelspec": {
      "name": "python3",
      "display_name": "Python 3"
    },
    "language_info": {
      "name": "python"
    }
  },
  "cells": [
    {
      "cell_type": "markdown",
      "metadata": {
        "id": "view-in-github",
        "colab_type": "text"
      },
      "source": [
        "<a href=\"https://colab.research.google.com/github/Orangeibro/kevincookiecompany.com/blob/main/PythonTest1.ipynb\" target=\"_parent\"><img src=\"https://colab.research.google.com/assets/colab-badge.svg\" alt=\"Open In Colab\"/></a>"
      ]
    },
    {
      "cell_type": "code",
      "execution_count": null,
      "metadata": {
        "id": "hT4J4ynpXY6G"
      },
      "outputs": [],
      "source": [
        "list2 = [11, 22, 33]"
      ]
    },
    {
      "cell_type": "code",
      "source": [
        "list2"
      ],
      "metadata": {
        "colab": {
          "base_uri": "https://localhost:8080/"
        },
        "id": "lPzD_iMbXwwL",
        "outputId": "5da5854b-b693-4de9-ab89-1717f82e1eb3"
      },
      "execution_count": null,
      "outputs": [
        {
          "output_type": "execute_result",
          "data": {
            "text/plain": [
              "[1, 2, 3, 4, 5, 6]"
            ]
          },
          "metadata": {},
          "execution_count": 4
        }
      ]
    },
    {
      "cell_type": "code",
      "source": [
        "for i in list1:\n",
        "  print(i)"
      ],
      "metadata": {
        "colab": {
          "base_uri": "https://localhost:8080/"
        },
        "id": "X_zm5jSUYERE",
        "outputId": "260cf417-d168-41c2-b908-07bffa5b0c70"
      },
      "execution_count": null,
      "outputs": [
        {
          "output_type": "stream",
          "name": "stdout",
          "text": [
            "11\n",
            "22\n",
            "33\n"
          ]
        }
      ]
    },
    {
      "cell_type": "code",
      "source": [
        "len(list1)"
      ],
      "metadata": {
        "colab": {
          "base_uri": "https://localhost:8080/"
        },
        "id": "_UUAQR4iX4M_",
        "outputId": "ffa97295-3e01-4f59-98a4-11e165c74fa2"
      },
      "execution_count": null,
      "outputs": [
        {
          "output_type": "execute_result",
          "data": {
            "text/plain": [
              "6"
            ]
          },
          "metadata": {},
          "execution_count": 20
        }
      ]
    },
    {
      "cell_type": "code",
      "source": [
        "list1 = [11, 22, 33]\n",
        "list1[2] = 777\n",
        "print(list1)\n",
        "\n"
      ],
      "metadata": {
        "colab": {
          "base_uri": "https://localhost:8080/"
        },
        "id": "8e3jI7VQZpB4",
        "outputId": "a47c0b0d-ea2a-40d9-d228-9306913bc017"
      },
      "execution_count": null,
      "outputs": [
        {
          "output_type": "stream",
          "name": "stdout",
          "text": [
            "[11, 22, 33]\n"
          ]
        }
      ]
    },
    {
      "cell_type": "code",
      "source": [
        "list2 = [1,2,3]\n",
        "list3 = [4,5,6]\n",
        "list2.extend(list3)"
      ],
      "metadata": {
        "id": "BQLDM9Zkchnp"
      },
      "execution_count": null,
      "outputs": []
    },
    {
      "cell_type": "code",
      "source": [
        "tuplee = ('Honda','Acura',6,2023)"
      ],
      "metadata": {
        "id": "2ABEFLA0Zdmk"
      },
      "execution_count": null,
      "outputs": []
    },
    {
      "cell_type": "code",
      "source": [
        "for j in tuplee:\n",
        " print(j)"
      ],
      "metadata": {
        "colab": {
          "base_uri": "https://localhost:8080/"
        },
        "id": "2yQHCUrpa2RM",
        "outputId": "d72a7e73-5c03-49ea-a500-d88cfd0c52a1"
      },
      "execution_count": null,
      "outputs": [
        {
          "output_type": "stream",
          "name": "stdout",
          "text": [
            "Honda\n",
            "Acura\n",
            "6\n",
            "2023\n"
          ]
        }
      ]
    },
    {
      "cell_type": "code",
      "source": [
        "type(None)"
      ],
      "metadata": {
        "colab": {
          "base_uri": "https://localhost:8080/"
        },
        "id": "Ea8nVqFOcXzt",
        "outputId": "c1c91b05-f038-4c64-e9ce-db68e61ffbe5"
      },
      "execution_count": null,
      "outputs": [
        {
          "output_type": "execute_result",
          "data": {
            "text/plain": [
              "NoneType"
            ]
          },
          "metadata": {},
          "execution_count": 52
        }
      ]
    },
    {
      "cell_type": "code",
      "source": [
        "duucc = {('GhostBee',2016): 6.6, ('Ghostbee',1984): 7.8}"
      ],
      "metadata": {
        "id": "XqHqVeeRi9CU"
      },
      "execution_count": null,
      "outputs": []
    },
    {
      "cell_type": "code",
      "source": [
        "dict.get(('Cars', 2006))"
      ],
      "metadata": {
        "colab": {
          "base_uri": "https://localhost:8080/"
        },
        "id": "m-QBqGU6jn-Z",
        "outputId": "858696e3-2834-4672-f3fb-f0a0ff066d1d"
      },
      "execution_count": null,
      "outputs": [
        {
          "output_type": "execute_result",
          "data": {
            "text/plain": [
              "7.1"
            ]
          },
          "metadata": {},
          "execution_count": 42
        }
      ]
    },
    {
      "cell_type": "code",
      "source": [
        "duucc[('Dugers',2010)]= 9.1"
      ],
      "metadata": {
        "id": "BQjLmz2tmHJ-"
      },
      "execution_count": null,
      "outputs": []
    },
    {
      "cell_type": "code",
      "source": [
        "dict.get(('Cars', 2006))"
      ],
      "metadata": {
        "colab": {
          "base_uri": "https://localhost:8080/"
        },
        "id": "LvzBncSIoKQU",
        "outputId": "14740e70-de60-4ec4-f9b7-cebb212abfdf"
      },
      "execution_count": null,
      "outputs": [
        {
          "output_type": "execute_result",
          "data": {
            "text/plain": [
              "7.1"
            ]
          },
          "metadata": {},
          "execution_count": 34
        }
      ]
    },
    {
      "cell_type": "code",
      "source": [
        "x = dict.get(('Toy Story', 1995))"
      ],
      "metadata": {
        "id": "AIovLk7Oohnm"
      },
      "execution_count": null,
      "outputs": []
    },
    {
      "cell_type": "code",
      "source": [
        "('Cars', 2006) in dict"
      ],
      "metadata": {
        "colab": {
          "base_uri": "https://localhost:8080/"
        },
        "id": "UfvANfxBo4sB",
        "outputId": "4f6cb4e0-ef84-4ce4-ce69-23141fd9736d"
      },
      "execution_count": null,
      "outputs": [
        {
          "output_type": "execute_result",
          "data": {
            "text/plain": [
              "True"
            ]
          },
          "metadata": {},
          "execution_count": 39
        }
      ]
    },
    {
      "cell_type": "code",
      "source": [
        "dict.pop(('GhostBee', 2016))"
      ],
      "metadata": {
        "colab": {
          "base_uri": "https://localhost:8080/"
        },
        "id": "aJQdlmunpTo5",
        "outputId": "27ae2d40-b913-4331-f4c2-a18c7f9c38e0"
      },
      "execution_count": null,
      "outputs": [
        {
          "output_type": "execute_result",
          "data": {
            "text/plain": [
              "6.6"
            ]
          },
          "metadata": {},
          "execution_count": 52
        }
      ]
    },
    {
      "cell_type": "code",
      "source": [
        "dict[('GhostBee',2016)]= 6.6"
      ],
      "metadata": {
        "id": "lzqs99FUweju"
      },
      "execution_count": null,
      "outputs": []
    },
    {
      "cell_type": "code",
      "source": [
        "for i in dict:\n",
        "  print(i)\n"
      ],
      "metadata": {
        "colab": {
          "base_uri": "https://localhost:8080/"
        },
        "id": "FC5yu-Gmz1in",
        "outputId": "2dec6945-6179-4735-f5fd-b6a92b53c2b7"
      },
      "execution_count": null,
      "outputs": [
        {
          "output_type": "stream",
          "name": "stdout",
          "text": [
            "('Ghostbee', 1984)\n",
            "('GhostBee', 2016)\n"
          ]
        }
      ]
    },
    {
      "cell_type": "code",
      "source": [
        "for key, value in duucc.items():\n",
        "  print(key,':',value)\n"
      ],
      "metadata": {
        "colab": {
          "base_uri": "https://localhost:8080/"
        },
        "id": "D7SW28W80rzD",
        "outputId": "94d2fcb3-6569-4a59-a51b-090168807e15"
      },
      "execution_count": null,
      "outputs": [
        {
          "output_type": "stream",
          "name": "stdout",
          "text": [
            "('GhostBee', 2016) : 6.6\n",
            "('Ghostbee', 1984) : 7.8\n",
            "('Dugers', 2010) : 9.1\n"
          ]
        }
      ]
    },
    {
      "cell_type": "code",
      "source": [
        "d = {('foo'): 100, ('bar'): 200, ('baz'): 300}\n"
      ],
      "metadata": {
        "id": "053z-YRy7adF"
      },
      "execution_count": null,
      "outputs": []
    },
    {
      "cell_type": "code",
      "source": [
        "del d['foo']"
      ],
      "metadata": {
        "id": "dpPQWxSz8Glu"
      },
      "execution_count": null,
      "outputs": []
    },
    {
      "cell_type": "code",
      "source": [
        "list = [i**2 for i in range(1,11)]"
      ],
      "metadata": {
        "id": "XOgucdtV8UMr"
      },
      "execution_count": null,
      "outputs": []
    },
    {
      "cell_type": "code",
      "source": [
        "list2 = [i for i in range(2,6)]"
      ],
      "metadata": {
        "id": "iWqBsHztHgq5"
      },
      "execution_count": null,
      "outputs": []
    },
    {
      "cell_type": "code",
      "source": [
        "list3 = [i for i in range(0,19,2)]"
      ],
      "metadata": {
        "id": "iK0tygxCJFPn"
      },
      "execution_count": null,
      "outputs": []
    },
    {
      "cell_type": "code",
      "source": [
        "list4 = [i%2 for i in range(0,10)]"
      ],
      "metadata": {
        "id": "mTtqZmvOKdD0"
      },
      "execution_count": null,
      "outputs": []
    },
    {
      "cell_type": "code",
      "source": [
        "list5 = [random.randint(0,5) for i in range(0,10)]"
      ],
      "metadata": {
        "id": "VlDRCfy7NpRp"
      },
      "execution_count": null,
      "outputs": []
    },
    {
      "cell_type": "code",
      "source": [
        "dict11 = {i : i**2 for i in range(1,11)}"
      ],
      "metadata": {
        "id": "JR45SZSMRFAR"
      },
      "execution_count": null,
      "outputs": []
    },
    {
      "cell_type": "code",
      "source": [
        "dict11"
      ],
      "metadata": {
        "colab": {
          "base_uri": "https://localhost:8080/"
        },
        "id": "DJVh_WoLFaIX",
        "outputId": "181f0d00-2b8d-41b7-cbf1-03bbe0839416"
      },
      "execution_count": null,
      "outputs": [
        {
          "output_type": "execute_result",
          "data": {
            "text/plain": [
              "{1: 1, 2: 4, 3: 9, 4: 16, 5: 25, 6: 36, 7: 49, 8: 64, 9: 81, 10: 100}"
            ]
          },
          "metadata": {},
          "execution_count": 152
        }
      ]
    },
    {
      "cell_type": "code",
      "source": [
        "dict #creating Dictionaries"
      ],
      "metadata": {
        "colab": {
          "base_uri": "https://localhost:8080/"
        },
        "id": "Bi6rtJKbwc5k",
        "outputId": "b2cb21b2-d649-4025-aa7d-ed9325827508"
      },
      "execution_count": null,
      "outputs": [
        {
          "output_type": "execute_result",
          "data": {
            "text/plain": [
              "{('Ghostbee', 1984): 7.8, ('GhostBee', 2016): 6.6}"
            ]
          },
          "metadata": {},
          "execution_count": 67
        }
      ]
    },
    {
      "cell_type": "code",
      "source": [
        "SetColors = set(['green','purple','orange']) #creating Sets"
      ],
      "metadata": {
        "id": "lMlUFHTFOKn4"
      },
      "execution_count": null,
      "outputs": []
    },
    {
      "cell_type": "code",
      "source": [
        "SetColors"
      ],
      "metadata": {
        "colab": {
          "base_uri": "https://localhost:8080/"
        },
        "id": "b1XYUcwUPQVX",
        "outputId": "5729c9f8-8fc7-4293-a1b7-2a80df227b6b"
      },
      "execution_count": null,
      "outputs": [
        {
          "output_type": "execute_result",
          "data": {
            "text/plain": [
              "{'Blue', 'orange', 'purple'}"
            ]
          },
          "metadata": {},
          "execution_count": 34
        }
      ]
    },
    {
      "cell_type": "code",
      "source": [
        "BothColor"
      ],
      "metadata": {
        "colab": {
          "base_uri": "https://localhost:8080/"
        },
        "id": "dW-Y7AvjXzhm",
        "outputId": "92aa7e4c-11df-4e76-fb47-ea8e29e01a89"
      },
      "execution_count": null,
      "outputs": [
        {
          "output_type": "execute_result",
          "data": {
            "text/plain": [
              "{'Blue', 'orange', 'purple'}"
            ]
          },
          "metadata": {},
          "execution_count": 39
        }
      ]
    },
    {
      "cell_type": "code",
      "source": [
        "SetColors.add('white')"
      ],
      "metadata": {
        "id": "FH-kuixwT3b-"
      },
      "execution_count": null,
      "outputs": []
    },
    {
      "cell_type": "code",
      "source": [
        "SetColors.discard('green')"
      ],
      "metadata": {
        "id": "cDdKoHZ-U89M"
      },
      "execution_count": null,
      "outputs": []
    },
    {
      "cell_type": "code",
      "source": [
        "YorColors = set(['green','Red'])"
      ],
      "metadata": {
        "id": "UjTCH9CwV6Ep"
      },
      "execution_count": null,
      "outputs": []
    },
    {
      "cell_type": "code",
      "source": [
        "EitherC = MyColors.union(YorColors)"
      ],
      "metadata": {
        "id": "sm1ynpXGWpF7"
      },
      "execution_count": null,
      "outputs": []
    },
    {
      "cell_type": "code",
      "source": [
        "InterC = YorColors.intersection(MyColors)"
      ],
      "metadata": {
        "id": "O2Ad-P7DXYBu"
      },
      "execution_count": null,
      "outputs": []
    },
    {
      "cell_type": "code",
      "source": [
        "EitherColor = EitherC | SetColors"
      ],
      "metadata": {
        "id": "VC1KiWYLcU_n"
      },
      "execution_count": null,
      "outputs": []
    },
    {
      "cell_type": "code",
      "source": [
        "EitherColor"
      ],
      "metadata": {
        "colab": {
          "base_uri": "https://localhost:8080/"
        },
        "id": "K3-TxNn1dt12",
        "outputId": "51997b6d-675b-477b-bd58-9d306d0b0a51"
      },
      "execution_count": null,
      "outputs": [
        {
          "output_type": "execute_result",
          "data": {
            "text/plain": [
              "{'Blue', 'Red', 'green', 'orange', 'purple', 'white'}"
            ]
          },
          "metadata": {},
          "execution_count": 54
        }
      ]
    },
    {
      "cell_type": "code",
      "source": [
        "SetColors"
      ],
      "metadata": {
        "colab": {
          "base_uri": "https://localhost:8080/"
        },
        "id": "ATkk99Gydv75",
        "outputId": "71f12d62-198e-4f64-a678-45a062ed2097"
      },
      "execution_count": null,
      "outputs": [
        {
          "output_type": "execute_result",
          "data": {
            "text/plain": [
              "{'Blue', 'orange', 'purple', 'white'}"
            ]
          },
          "metadata": {},
          "execution_count": 52
        }
      ]
    },
    {
      "cell_type": "code",
      "source": [
        "BothColor"
      ],
      "metadata": {
        "colab": {
          "base_uri": "https://localhost:8080/"
        },
        "id": "ec40m7JZd5YD",
        "outputId": "7cd303b2-7481-424f-9e68-e686b515bbd1"
      },
      "execution_count": null,
      "outputs": [
        {
          "output_type": "execute_result",
          "data": {
            "text/plain": [
              "{'Blue', 'orange', 'purple'}"
            ]
          },
          "metadata": {},
          "execution_count": 49
        }
      ]
    },
    {
      "cell_type": "code",
      "source": [
        "BothColor = EitherC & SetColors"
      ],
      "metadata": {
        "id": "XYDAf8xbdFdL"
      },
      "execution_count": null,
      "outputs": []
    },
    {
      "cell_type": "code",
      "source": [
        "t  = [3,4,5,6,7]"
      ],
      "metadata": {
        "id": "QIl0eW3Rmswn"
      },
      "execution_count": null,
      "outputs": []
    },
    {
      "cell_type": "code",
      "source": [
        "t"
      ],
      "metadata": {
        "colab": {
          "base_uri": "https://localhost:8080/"
        },
        "id": "Iow1mB_pntCf",
        "outputId": "fa10d964-f726-4c06-af9d-d7aaa99c7920"
      },
      "execution_count": null,
      "outputs": [
        {
          "output_type": "execute_result",
          "data": {
            "text/plain": [
              "[3, 4, 5, 6, 7, 9]"
            ]
          },
          "metadata": {},
          "execution_count": 60
        }
      ]
    }
  ]
}